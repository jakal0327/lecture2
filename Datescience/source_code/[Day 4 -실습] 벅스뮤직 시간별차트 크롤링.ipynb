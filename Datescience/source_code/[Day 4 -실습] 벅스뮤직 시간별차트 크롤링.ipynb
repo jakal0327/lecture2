{
 "cells": [
  {
   "cell_type": "markdown",
   "metadata": {},
   "source": [
    "# Day 4 - 벅스뮤직 시간별차트 크롤링\n",
    "- https://music.bugs.co.kr/chart/track/realtime/total?chardate=2020117&char\n",
    "\n",
    "- Top 3위를 뽑아서 일정 기간동안 Top3에 많이 든 곡 순서대로 확인하기"
   ]
  },
  {
   "cell_type": "code",
   "execution_count": 10,
   "metadata": {},
   "outputs": [
    {
     "name": "stdout",
     "output_type": "stream",
     "text": [
      "아무노래\n"
     ]
    }
   ],
   "source": [
    "from bs4 import BeautifulSoup\n",
    "import pandas as pd\n",
    "from urllib.request import urlopen\n",
    "\n",
    "url = \"https://music.bugs.co.kr/chart/track/realtime/total?chardate=2020117&char\"\n",
    "page = urlopen(url)\n",
    "soup = BeautifulSoup(page, 'html.parser')\n",
    "\n",
    "#print(soup.find_all('div','ranking')[0].strong.string) #순위\n",
    "# print(soup.find_all('p','title')[0].a.string) #곡\n",
    "# print(soup.find_all('p','artist')[0].a.string) #아티스트\n",
    "# print(soup.find_all('a','album')[1].string) #앨범"
   ]
  },
  {
   "cell_type": "code",
   "execution_count": 16,
   "metadata": {},
   "outputs": [
    {
     "name": "stdout",
     "output_type": "stream",
     "text": [
      "DatetimeIndex(['2019-12-03', '2019-12-10', '2019-12-17'], dtype='datetime64[ns]', freq='W-TUE')\n"
     ]
    }
   ],
   "source": [
    "date= pd.date_range('2019-12-01',periods=3, freq='w-tue')\n",
    "print(date)\n",
    "time = [i for i in range (7,24,5)]"
   ]
  },
  {
   "cell_type": "code",
   "execution_count": 24,
   "metadata": {},
   "outputs": [
    {
     "ename": "SyntaxError",
     "evalue": "invalid syntax (<ipython-input-24-88c0c23e8b63>, line 17)",
     "output_type": "error",
     "traceback": [
      "\u001b[1;36m  File \u001b[1;32m\"<ipython-input-24-88c0c23e8b63>\"\u001b[1;36m, line \u001b[1;32m17\u001b[0m\n\u001b[1;33m    html =url.format(date=parsed_date. time=\"%02d\"% t)\u001b[0m\n\u001b[1;37m                                           ^\u001b[0m\n\u001b[1;31mSyntaxError\u001b[0m\u001b[1;31m:\u001b[0m invalid syntax\n"
     ]
    }
   ],
   "source": [
    "from tqdm import tqdm_notebook\n",
    "\n",
    "chart_date=[]\n",
    "chart_time=[]\n",
    "chart_ranking=[]\n",
    "chart_title=[]\n",
    "chart_artist=[]\n",
    "chart_album=[]\n",
    "\n",
    "for today in tqdm_notebook(date):\n",
    "    for t in tqdm_notebook(time):\n",
    "        url1=\"https://music.bugs.co.kr/chart/track/realtime/total?\"\n",
    "        url2=\"chardate={date}&charhour={time}\"\n",
    "        url=url+url2\n",
    "        \n",
    "        parsed_date = urllib.parse.quote(today.strftime('%Y%m%d'))\n",
    "        html =url.format(date=parsed_date. time=\"%02d\"% t)\n",
    "        response=urlopen(html)\n",
    "        soup = BeautifulSoup(response,'html.parser')\n",
    "        \n",
    "        for i range(3):\n",
    "            chart_date.append(today)\n",
    "            chart_time.append(t)\n",
    "            chart_ranking(soup.find_all('div','ranking')[i].strong)\n",
    "            chart_title(soup.find_all('p','title')[i].a.strong)\n",
    "            chart_artist(soup.find_all('p','artist')[i].a.strong)\n",
    "            chart_album(soup.find_all('a','album')[i+1].strong)\n",
    "                        \n",
    "int(chart_ranking)\n",
    "int(chart_title)\n",
    "int(chart_album)\n",
    "int(chart_artist)"
   ]
  },
  {
   "cell_type": "code",
   "execution_count": 23,
   "metadata": {},
   "outputs": [
    {
     "ename": "AttributeError",
     "evalue": "module 'pandas' has no attribute 'DateFrame'",
     "output_type": "error",
     "traceback": [
      "\u001b[1;31m---------------------------------------------------------------------------\u001b[0m",
      "\u001b[1;31mAttributeError\u001b[0m                            Traceback (most recent call last)",
      "\u001b[1;32m<ipython-input-23-6e6794e78ce1>\u001b[0m in \u001b[0;36m<module>\u001b[1;34m\u001b[0m\n\u001b[1;32m----> 1\u001b[1;33m chart = pd.DateFrame({'date':chart_date,\n\u001b[0m\u001b[0;32m      2\u001b[0m                      \u001b[1;34m'time'\u001b[0m\u001b[1;33m:\u001b[0m\u001b[0mchart_time\u001b[0m\u001b[1;33m,\u001b[0m\u001b[1;33m\u001b[0m\u001b[1;33m\u001b[0m\u001b[0m\n\u001b[0;32m      3\u001b[0m                      \u001b[1;34m'ranking'\u001b[0m\u001b[1;33m:\u001b[0m\u001b[0mchart_ranking\u001b[0m\u001b[1;33m,\u001b[0m\u001b[1;33m\u001b[0m\u001b[1;33m\u001b[0m\u001b[0m\n\u001b[0;32m      4\u001b[0m                      \u001b[1;34m'title'\u001b[0m\u001b[1;33m:\u001b[0m\u001b[0mchart_title\u001b[0m\u001b[1;33m,\u001b[0m\u001b[1;33m\u001b[0m\u001b[1;33m\u001b[0m\u001b[0m\n\u001b[0;32m      5\u001b[0m                      \u001b[1;34m'artist'\u001b[0m\u001b[1;33m:\u001b[0m\u001b[0mchart_artist\u001b[0m\u001b[1;33m,\u001b[0m\u001b[1;33m\u001b[0m\u001b[1;33m\u001b[0m\u001b[0m\n",
      "\u001b[1;32mD:\\Anaconda\\lib\\site-packages\\pandas\\__init__.py\u001b[0m in \u001b[0;36m__getattr__\u001b[1;34m(name)\u001b[0m\n\u001b[0;32m    212\u001b[0m \u001b[1;33m\u001b[0m\u001b[0m\n\u001b[0;32m    213\u001b[0m             \u001b[1;32mreturn\u001b[0m \u001b[0mPanel\u001b[0m\u001b[1;33m\u001b[0m\u001b[1;33m\u001b[0m\u001b[0m\n\u001b[1;32m--> 214\u001b[1;33m         \u001b[1;32mraise\u001b[0m \u001b[0mAttributeError\u001b[0m\u001b[1;33m(\u001b[0m\u001b[1;34m\"module 'pandas' has no attribute '{}'\"\u001b[0m\u001b[1;33m.\u001b[0m\u001b[0mformat\u001b[0m\u001b[1;33m(\u001b[0m\u001b[0mname\u001b[0m\u001b[1;33m)\u001b[0m\u001b[1;33m)\u001b[0m\u001b[1;33m\u001b[0m\u001b[1;33m\u001b[0m\u001b[0m\n\u001b[0m\u001b[0;32m    215\u001b[0m \u001b[1;33m\u001b[0m\u001b[0m\n\u001b[0;32m    216\u001b[0m \u001b[1;33m\u001b[0m\u001b[0m\n",
      "\u001b[1;31mAttributeError\u001b[0m: module 'pandas' has no attribute 'DateFrame'"
     ]
    }
   ],
   "source": [
    "chart = pd.DateFrame({'date':chart_date,\n",
    "                     'time':chart_time,\n",
    "                     'ranking':chart_ranking,\n",
    "                     'title':chart_title,\n",
    "                     'artist':chart_artist,\n",
    "                     'album':chart_album})\n",
    "chart"
   ]
  },
  {
   "cell_type": "code",
   "execution_count": 25,
   "metadata": {},
   "outputs": [
    {
     "ename": "NameError",
     "evalue": "name 'chart' is not defined",
     "output_type": "error",
     "traceback": [
      "\u001b[1;31m---------------------------------------------------------------------------\u001b[0m",
      "\u001b[1;31mNameError\u001b[0m                                 Traceback (most recent call last)",
      "\u001b[1;32m<ipython-input-25-ce8028f40bae>\u001b[0m in \u001b[0;36m<module>\u001b[1;34m\u001b[0m\n\u001b[0;32m      2\u001b[0m \u001b[1;31m# chart.group('title').count()\u001b[0m\u001b[1;33m\u001b[0m\u001b[1;33m\u001b[0m\u001b[1;33m\u001b[0m\u001b[0m\n\u001b[0;32m      3\u001b[0m \u001b[1;31m# chart.group('title').size()\u001b[0m\u001b[1;33m\u001b[0m\u001b[1;33m\u001b[0m\u001b[1;33m\u001b[0m\u001b[0m\n\u001b[1;32m----> 4\u001b[1;33m \u001b[0mchart_grouped\u001b[0m\u001b[1;33m=\u001b[0m\u001b[0mchart\u001b[0m\u001b[1;33m.\u001b[0m\u001b[0mgroupby\u001b[0m\u001b[1;33m(\u001b[0m\u001b[1;33m[\u001b[0m\u001b[1;34m'title'\u001b[0m\u001b[1;33m,\u001b[0m\u001b[1;34m'artist'\u001b[0m\u001b[1;33m]\u001b[0m\u001b[1;33m)\u001b[0m\u001b[1;33m,\u001b[0m\u001b[0msize\u001b[0m\u001b[1;33m(\u001b[0m\u001b[1;33m)\u001b[0m\u001b[1;33m.\u001b[0m\u001b[0mreset_index\u001b[0m\u001b[1;33m(\u001b[0m\u001b[0mname\u001b[0m\u001b[1;33m=\u001b[0m\u001b[1;34m'count'\u001b[0m\u001b[1;33m)\u001b[0m\u001b[1;33m\u001b[0m\u001b[1;33m\u001b[0m\u001b[0m\n\u001b[0m\u001b[0;32m      5\u001b[0m \u001b[0mchart_grouped\u001b[0m\u001b[1;33m=\u001b[0m\u001b[0mchart_grouped\u001b[0m\u001b[1;33m.\u001b[0m\u001b[0mset_index\u001b[0m\u001b[1;33m(\u001b[0m\u001b[1;33m[\u001b[0m\u001b[1;34m'title'\u001b[0m\u001b[1;33m,\u001b[0m\u001b[1;34m'artist'\u001b[0m\u001b[1;33m]\u001b[0m\u001b[1;33m)\u001b[0m\u001b[1;33m\u001b[0m\u001b[1;33m\u001b[0m\u001b[0m\n\u001b[0;32m      6\u001b[0m \u001b[0mchart_grouped\u001b[0m\u001b[1;33m.\u001b[0m\u001b[0msort_values\u001b[0m\u001b[1;33m(\u001b[0m\u001b[0mby\u001b[0m\u001b[1;33m=\u001b[0m\u001b[1;34m'count'\u001b[0m\u001b[1;33m,\u001b[0m\u001b[0mascending\u001b[0m\u001b[1;33m=\u001b[0m\u001b[1;32mFalse\u001b[0m\u001b[1;33m)\u001b[0m\u001b[1;33m\u001b[0m\u001b[1;33m\u001b[0m\u001b[0m\n",
      "\u001b[1;31mNameError\u001b[0m: name 'chart' is not defined"
     ]
    }
   ],
   "source": [
    "# print(chart.groupby('title'))\n",
    "# chart.group('title').count()\n",
    "# chart.group('title').size()\n",
    "chart_grouped=chart.groupby(['title','artist']),size().reset_index(name='count')\n",
    "chart_grouped=chart_grouped.set_index(['title','artist'])\n",
    "chart_grouped.sort_values(by='count',ascending=False)"
   ]
  },
  {
   "cell_type": "code",
   "execution_count": null,
   "metadata": {},
   "outputs": [],
   "source": []
  }
 ],
 "metadata": {
  "kernelspec": {
   "display_name": "Python 3",
   "language": "python",
   "name": "python3"
  },
  "language_info": {
   "codemirror_mode": {
    "name": "ipython",
    "version": 3
   },
   "file_extension": ".py",
   "mimetype": "text/x-python",
   "name": "python",
   "nbconvert_exporter": "python",
   "pygments_lexer": "ipython3",
   "version": "3.7.6"
  }
 },
 "nbformat": 4,
 "nbformat_minor": 2
}
