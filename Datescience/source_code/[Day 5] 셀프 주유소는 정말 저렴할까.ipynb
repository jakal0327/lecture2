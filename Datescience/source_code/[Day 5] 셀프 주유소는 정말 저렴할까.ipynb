{
 "cells": [
  {
   "cell_type": "markdown",
   "metadata": {},
   "source": [
    "## 셀프 주유소가 정말 저렴할까?\n",
    "- `Opinet` "
   ]
  },
  {
   "cell_type": "code",
   "execution_count": 6,
   "metadata": {},
   "outputs": [],
   "source": [
    "from selenium import webdriver"
   ]
  },
  {
   "cell_type": "code",
   "execution_count": 7,
   "metadata": {},
   "outputs": [],
   "source": [
    "import time\n",
    "# time.sleep(10) # 10초 기다리기"
   ]
  },
  {
   "cell_type": "code",
   "execution_count": 8,
   "metadata": {},
   "outputs": [],
   "source": [
    "driver = webdriver.Chrome('../driver/chromedriver')\n",
    "driver.get('http://www.opinet.co.kr/user/main/mainView.do')"
   ]
  },
  {
   "cell_type": "code",
   "execution_count": 9,
   "metadata": {},
   "outputs": [],
   "source": [
    "## 버튼 눌러서 주유소/충전소 찾기 -> 실패!!\n",
    "# xpath = \"\"\"//*[@id=\"gnb\"]/ul/li[1]/a\"\"\"\n",
    "# driver.find_element_by_xpath(xpath).click()\n",
    "\n",
    "# xpath = \"\"\"//*[@id=\"gnb_0_0\"]\"\"\"\n",
    "# driver.find_element_by_xpath(xpath).click()"
   ]
  },
  {
   "cell_type": "code",
   "execution_count": 10,
   "metadata": {},
   "outputs": [],
   "source": [
    "driver.execute_script(\"javascript:goPageNet(0,0,'B2')\")"
   ]
  },
  {
   "cell_type": "code",
   "execution_count": 11,
   "metadata": {},
   "outputs": [],
   "source": [
    "# 시를 서울로 설정\n",
    "element = driver.find_element_by_id('SIDO_NM0')\n",
    "element.send_keys('서울')"
   ]
  },
  {
   "cell_type": "code",
   "execution_count": 12,
   "metadata": {},
   "outputs": [
    {
     "data": {
      "text/plain": [
       "['강남구',\n",
       " '강동구',\n",
       " '강북구',\n",
       " '강서구',\n",
       " '관악구',\n",
       " '광진구',\n",
       " '구로구',\n",
       " '금천구',\n",
       " '노원구',\n",
       " '도봉구',\n",
       " '동대문구',\n",
       " '동작구',\n",
       " '마포구',\n",
       " '서대문구',\n",
       " '서초구',\n",
       " '성동구',\n",
       " '성북구',\n",
       " '송파구',\n",
       " '양천구',\n",
       " '영등포구',\n",
       " '용산구',\n",
       " '은평구',\n",
       " '종로구',\n",
       " '중구',\n",
       " '중랑구']"
      ]
     },
     "execution_count": 12,
     "metadata": {},
     "output_type": "execute_result"
    }
   ],
   "source": [
    "# 서울시의 구 리스트 가져오기\n",
    "xpath = \"\"\"//*[@id=\"SIGUNGU_NM0\"]\"\"\"\n",
    "gu_list_select = driver.find_element_by_xpath(xpath)\n",
    "gu_list = gu_list_select.find_elements_by_tag_name(\"option\")\n",
    "\n",
    "gu_names = [option.get_attribute('value') \\\n",
    "            for option in gu_list]\n",
    "gu_names.remove('')\n",
    "gu_names"
   ]
  },
  {
   "cell_type": "code",
   "execution_count": null,
   "metadata": {},
   "outputs": [],
   "source": [
    "## 임시로 강남구로 지정\n",
    "# element_gu = driver.find_element_by_id('SIGUNGU_NM0')\n",
    "# element_gu.send_keys('강남구')\n",
    "\n",
    "## 엑셀로 저장\n",
    "# driver.find_element_by_id('glopopd_excel').click()"
   ]
  },
  {
   "cell_type": "code",
   "execution_count": 14,
   "metadata": {},
   "outputs": [
    {
     "data": {
      "application/vnd.jupyter.widget-view+json": {
       "model_id": "17914a8111304549837b8c19e7769d5f",
       "version_major": 2,
       "version_minor": 0
      },
      "text/plain": [
       "HBox(children=(IntProgress(value=0, max=25), HTML(value='')))"
      ]
     },
     "metadata": {},
     "output_type": "display_data"
    },
    {
     "name": "stdout",
     "output_type": "stream",
     "text": [
      "\n"
     ]
    }
   ],
   "source": [
    "from tqdm import tqdm_notebook\n",
    "\n",
    "for gu in tqdm_notebook(gu_names):\n",
    "    element_gu = driver.find_element_by_id('SIGUNGU_NM0')\n",
    "    element_gu.send_keys(gu)\n",
    "    \n",
    "    time.sleep(2)\n",
    "    \n",
    "    driver.find_element_by_id('glopopd_excel').click()\n",
    "    time.sleep(2)"
   ]
  },
  {
   "cell_type": "code",
   "execution_count": 15,
   "metadata": {},
   "outputs": [],
   "source": [
    "driver.close()"
   ]
  },
  {
   "cell_type": "code",
   "execution_count": null,
   "metadata": {},
   "outputs": [],
   "source": []
  },
  {
   "cell_type": "code",
   "execution_count": null,
   "metadata": {},
   "outputs": [],
   "source": []
  }
 ],
 "metadata": {
  "kernelspec": {
   "display_name": "Python 3",
   "language": "python",
   "name": "python3"
  },
  "language_info": {
   "codemirror_mode": {
    "name": "ipython",
    "version": 3
   },
   "file_extension": ".py",
   "mimetype": "text/x-python",
   "name": "python",
   "nbconvert_exporter": "python",
   "pygments_lexer": "ipython3",
   "version": "3.7.4"
  }
 },
 "nbformat": 4,
 "nbformat_minor": 2
}
