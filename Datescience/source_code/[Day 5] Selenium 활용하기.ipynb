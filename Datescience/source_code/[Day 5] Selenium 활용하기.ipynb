{
 "cells": [
  {
   "cell_type": "markdown",
   "metadata": {},
   "source": [
    "## Selenium\n",
    "- `pip install selenium`으로 설치\n",
    "\n",
    "#### chrome driver 설치\n",
    "- [링크](https://sites.google.com/a/chromium.org/chromedriver/home)\n",
    "- 크롬 버전 확인 후 맞는 버전으로 다운로드\n",
    "    - 크롬 버전 확인하기 : `설정 -> 도움말 -> chrome 정보`\n",
    "- 다운로드 받은 파일을 압축 풀어서 driver 안에 넣기 (driver 폴더 생성 후)\n",
    "- chrome driver가 띄운 화면은 건드리지 않기\n",
    "    - 조작에 혼선 생길 수 있음."
   ]
  },
  {
   "cell_type": "code",
   "execution_count": 1,
   "metadata": {},
   "outputs": [],
   "source": [
    "from selenium import webdriver"
   ]
  },
  {
   "cell_type": "code",
   "execution_count": 3,
   "metadata": {},
   "outputs": [],
   "source": [
    "driver = webdriver.Chrome('../driver/chromedriver')\n",
    "driver.get('https://naver.com')"
   ]
  },
  {
   "cell_type": "code",
   "execution_count": 5,
   "metadata": {},
   "outputs": [
    {
     "data": {
      "text/plain": [
       "True"
      ]
     },
     "execution_count": 5,
     "metadata": {},
     "output_type": "execute_result"
    }
   ],
   "source": [
    "## 화면 캡처\n",
    "driver.save_screenshot('../images/naver.png')"
   ]
  },
  {
   "cell_type": "code",
   "execution_count": 8,
   "metadata": {},
   "outputs": [],
   "source": [
    "## 로그인 버튼 클릭\n",
    "xpath = \"\"\"//*[@id=\"account\"]/div/a\"\"\"\n",
    "driver.find_element_by_xpath(xpath).click()"
   ]
  },
  {
   "cell_type": "code",
   "execution_count": 12,
   "metadata": {},
   "outputs": [],
   "source": [
    "## 아이디 입력\n",
    "elem_id = driver.find_element_by_id('id')\n",
    "elem_id.clear()\n",
    "elem_id.send_keys(\"naver_id\") # tag에 값 입력"
   ]
  },
  {
   "cell_type": "code",
   "execution_count": 13,
   "metadata": {},
   "outputs": [],
   "source": [
    "## 패스워드 입력\n",
    "elem_pw = driver.find_element_by_id('pw')\n",
    "elem_pw.clear()\n",
    "elem_pw.send_keys(\"password12345hihibyebye\") "
   ]
  },
  {
   "cell_type": "code",
   "execution_count": 14,
   "metadata": {},
   "outputs": [],
   "source": [
    "login_button = driver.find_element_by_xpath(\"\"\"//*[@id=\"log.login\"]\"\"\")\n",
    "login_button.click()"
   ]
  },
  {
   "cell_type": "code",
   "execution_count": 15,
   "metadata": {
    "scrolled": false
   },
   "outputs": [
    {
     "data": {
      "text/plain": [
       "<html lang=\"ko\"><head>\n",
       "<meta charset=\"utf-8\"/>\n",
       "<meta content=\"IE=edge\" http-equiv=\"X-UA-Compatible\"/>\n",
       "<meta content=\"width=device-width, initial-scale=1.0, maximum-scale=1.0, minimum-scale=1.0, user-scalable=no\" name=\"viewport\"/>\n",
       "<title>네이버 : 로그인</title>\n",
       "<link href=\"/login/css/global/desktop/w_20190509.css?dt=20190509\" rel=\"stylesheet\" type=\"text/css\"/>\n",
       "</head>\n",
       "<body class=\"chrome\">\n",
       "<div id=\"wrap\">\n",
       "<!-- header -->\n",
       "<div id=\"header\">\n",
       "<h1><a class=\"sp h_logo\" href=\"http://www.naver.com\" id=\"l5f.naver\"><span class=\"blind\">NAVER</span></a></h1>\n",
       "</div>\n",
       "<!-- //header -->\n",
       "<!-- container -->\n",
       "<div id=\"container\">\n",
       "<!-- content -->\n",
       "<div id=\"content\">\n",
       "<div aria-live=\"assertive\" class=\"title\">\n",
       "<p>안전을 위해 비밀번호와 자동입력 방지문자를 입력해주세요.<br/><a class=\"link_login_help\" href=\"https://help.naver.com/support/contents/contents.nhn?serviceNo=532&amp;categoryNo=10936\" target=\"blank\">앗, 로그인이 안 되나요?</a> </p>\n",
       "</div>\n",
       "<form action=\"https://nid.naver.com/nidlogin.login\" autocomplete=\"off\" id=\"frmNIDLogin\" method=\"POST\" name=\"frmNIDLogin\" target=\"_top\">\n",
       "<input id=\"logintp\" name=\"logintp\" type=\"hidden\" value=\"null\"/>\n",
       "<input id=\"encpw\" name=\"encpw\" type=\"hidden\" value=\"\"/>\n",
       "<input id=\"enctp\" name=\"enctp\" type=\"hidden\" value=\"1\"/>\n",
       "<input id=\"svctype\" name=\"svctype\" type=\"hidden\" value=\"1\"/>\n",
       "<input id=\"smart_LEVEL\" name=\"smart_LEVEL\" type=\"hidden\" value=\"1\"/>\n",
       "<input id=\"encnm\" name=\"encnm\" type=\"hidden\" value=\"\"/>\n",
       "<input id=\"bvsd\" name=\"bvsd\" type=\"hidden\" value=\"\"/>\n",
       "<input id=\"locale\" name=\"locale\" type=\"hidden\" value=\"ko_KR\"/>\n",
       "<input id=\"chptchakey\" name=\"chptchakey\" type=\"hidden\" value=\"bOqN8MjCMPoSe43X\"/>\n",
       "<input id=\"captcha_type\" name=\"captcha_type\" type=\"hidden\" value=\"\"/>\n",
       "<input id=\"url\" name=\"url\" type=\"hidden\" value=\"https://www.naver.com\"/>\n",
       "<fieldset class=\"login_form\">\n",
       "<legend class=\"blind\">로그인</legend>\n",
       "<div class=\"id_area\">\n",
       "<div class=\"input_row\" id=\"id_area\">\n",
       "<span class=\"input_box\">\n",
       "<label class=\"lbl\" for=\"id\" id=\"label_id_area\" style=\"display:none\">아이디</label>\n",
       "<input accesskey=\"L\" class=\"int\" id=\"id\" maxlength=\"41\" name=\"id\" placeholder=\"아이디\" type=\"text\" value=\"naver_id\"/>\n",
       "</span>\n",
       "<button class=\"wrg\" disabled=\"\" id=\"id_clear\" title=\"delete\" type=\"button\">삭제</button>\n",
       "</div>\n",
       "<div aria-live=\"assertive\" class=\"error\" id=\"err_empty_id\" style=\"display:none\"></div>\n",
       "</div>\n",
       "<div class=\"pw_area\">\n",
       "<div class=\"input_row\" id=\"pw_area\">\n",
       "<span class=\"input_box\">\n",
       "<label class=\"lbl\" for=\"pw\" id=\"label_pw_area\" style=\"display: block;\">비밀번호</label>\n",
       "<input class=\"int\" id=\"pw\" maxlength=\"16\" name=\"pw\" placeholder=\"비밀번호\" type=\"password\"/>\n",
       "</span>\n",
       "<button class=\"wrg\" disabled=\"\" id=\"pw_clear\" title=\"delete\" type=\"button\">삭제</button>\n",
       "<div class=\"ly_v2\" id=\"err_capslock\" style=\"display:none;\">\n",
       "<div class=\"ly_box\">\n",
       "<p><strong>Caps Lock</strong>이 켜져 있습니다.</p>\n",
       "</div>\n",
       "<span class=\"sp ly_point\"></span>\n",
       "</div>\n",
       "</div>\n",
       "<div aria-live=\"assertive\" class=\"error\" id=\"err_empty_pw\" style=\"display:none\"></div>\n",
       "</div>\n",
       "<div class=\"captcha\">\n",
       "<p class=\"captcha_txt\" id=\"captcha_info\">아래 이미지를 보이는 대로 입력해주세요.</p>\n",
       "<div class=\"captcha_box\" id=\"image_captcha\">\n",
       "<span class=\"captcha_img\"><img alt=\"캡차이미지\" height=\"100%\" id=\"captchaimg\" src=\"https://captcha.nid.naver.com/nhncaptchav4.gif?key=bOqN8MjCMPoSe43X&amp;1\" width=\"100%\"/></span>\n",
       "<a class=\"btn_refresh\" href=\"#\" id=\"l5f.refresh\"><span class=\"sp\">새로고침</span></a>\n",
       "<a class=\"btn_sound\" href=\"#\" id=\"l5f.audio\"><span class=\"sp\">음성으로 듣기</span></a>\n",
       "</div>\n",
       "<div class=\"captcha_box capcha_sound\" id=\"sound_captcha\" style=\"display:none;\">\n",
       "<span class=\"captcha_img\"><span class=\"sp speaker\"></span>\n",
       "<span class=\"audio_txt\" id=\"audio_txt\">음성으로 안내되고 있습니다.(시작음 3회 반복 후 재생)</span>\n",
       "</span>\n",
       "<a class=\"btn_refresh\" href=\"#\" id=\"play_audio\"><span class=\"sp\">새로고침</span></a>\n",
       "<a class=\"btn_img\" href=\"#\" id=\"l5f.img\"><span class=\"sp\">이미지로 보기</span></a>\n",
       "</div>\n",
       "<div class=\"input_row\" id=\"chptcha_area\">\n",
       "<span class=\"input_box\">\n",
       "<label class=\"lbl\" for=\"chptcha\" id=\"label_chptcha_area\">자동입력 방지문자</label><input class=\"int\" id=\"chptcha\" name=\"chptcha\" placeholder=\"자동입력 방지문자\" type=\"text\"/>\n",
       "</span>\n",
       "<button class=\"wrg\" disabled=\"\" id=\"chptcha_clear\" title=\"delete\" type=\"button\">삭제 </button>\n",
       "</div>\n",
       "</div>\n",
       "<div class=\"error\" id=\"err_captcha\" style=\"display:none;\">자동입력 방지문자를 입력해 주세요!</div>\n",
       "<input alt=\"로그인\" class=\"btn_global\" id=\"l5f.login\" title=\"로그인\" type=\"submit\" value=\"로그인\"/>\n",
       "<div class=\"check_info\">\n",
       "<div class=\"login_check\">\n",
       "<span class=\"login_check_box\">\n",
       "<input class=\"\" id=\"login_chk\" name=\"nvlong\" type=\"checkbox\" value=\"off\"/>\n",
       "<label class=\"sp\" for=\"login_chk\" id=\"label_login_chk\">로그인 상태 유지</label>\n",
       "</span>\n",
       "<div class=\"ly_v2\" id=\"persist_usage\" style=\"display:none;\">\n",
       "<div class=\"ly_box\">\n",
       "<p>개인정보 보호를 위해 <strong>개인 PC에서만 사용하세요.</strong>     <a class=\"sp btn_check_help\" href=\"https://help.naver.com/support/contents/contents.nhn?serviceNo=532&amp;categoryNo=1523\" target=\"_blank\">도움말보기</a></p>\n",
       "</div>\n",
       "<span class=\"sp ly_point\"></span>\n",
       "</div>\n",
       "</div>\n",
       "<div class=\"pc_check\">\n",
       "<span class=\"ip_check\">\n",
       "<a href=\"/login/ext/help_ip3.html\" id=\"ipguide\" target=\"_blank\" title=\"\">IP보안</a>\n",
       "<span class=\"ip_ch\">\n",
       "<input class=\"\" id=\"ip_on\" type=\"checkbox\" value=\"off\"/>\n",
       "<label class=\"sp on\" for=\"ip_on\" id=\"label_ip_on\"><span class=\"blind\">on</span></label>\n",
       "</span>\n",
       "</span>\n",
       "<span class=\"bar\">|</span>\n",
       "<div class=\"dis_di\">\n",
       "<a href=\"#\" id=\"log.otn\" title=\"일회용 로그인\">일회용 로그인</a><a class=\"btn_help_cover\" href=\"#\" id=\"log.otnhelp\" title=\"도움말\"><span class=\"sp btn_help\"></span><span class=\"blind\">도움말</span></a>\n",
       "<div class=\"ly\" id=\"onetime_usage\" style=\"display:none;\">\n",
       "<div class=\"ly_box\">\n",
       "<p>네이버앱에서 생성된 일회용 로그인 번호를 입력하면, 앱에 로그인된 계정으로 PC에서 로그인할 수 있어요. 아이디/비밀번호를 입력하지 않아 간편하고 더욱 안전합니다.</p>\n",
       "</div>\n",
       "<span class=\"sp ly_point\"></span>\n",
       "</div>\n",
       "</div>\n",
       "</div>\n",
       "</div>\n",
       "</fieldset>\n",
       "</form>\n",
       "<div class=\"position_a\">\n",
       "<div class=\"find_info\">\n",
       "<a href=\"https://nid.naver.com/user2/api/route.nhn?m=routeIdInquiry&amp;lang=ko_KR\" id=\"idinquiry\" target=\"_blank\">아이디 찾기</a> <span aria-hidden=\"true\" class=\"bar\">|</span> <a href=\"https://nid.naver.com/user2/api/route.nhn?m=routePwInquiry&amp;lang=ko_KR\" id=\"pwinquiry\" target=\"_blank\">비밀번호 찾기</a> <span aria-hidden=\"true\" class=\"bar\">|</span> <a href=\"https://nid.naver.com/user2/V2Join.nhn?m=agree&amp;lang=ko_KR\" id=\"join\" target=\"_blank\">회원가입</a>\n",
       "</div>\n",
       "</div>\n",
       "</div>\n",
       "<!-- //content -->\n",
       "</div>\n",
       "<!-- //container -->\n",
       "<!-- footer -->\n",
       "<div id=\"footer\">\n",
       "<ul>\n",
       "<li><a href=\"http://www.naver.com/rules/service.html\" id=\"fot.agreement\" target=\"_blank\">이용약관</a></li>\n",
       "<li><strong><a href=\"http://www.naver.com/rules/privacy.html\" id=\"fot.privacy\" target=\"_blank\">개인정보처리방침</a></strong></li>\n",
       "<li><a href=\"http://www.naver.com/rules/disclaimer.html\" id=\"fot.disclaimer\" target=\"_blank\">책임의 한계와 법적고지</a></li>\n",
       "<li><a href=\"https://help.naver.com/support/service/main.nhn?serviceNo=532\" id=\"fot.help\" target=\"_blank\">회원정보 고객센터</a></li>\n",
       "</ul>\n",
       "<address><em><a class=\"logo\" href=\"http://www.navercorp.com\" id=\"fot.naver\" target=\"_blank\"><span class=\"blind\">naver</span></a></em><em class=\"copy\">Copyright</em> <em class=\"u_cri\">©</em> <a class=\"u_cra\" href=\"http://www.navercorp.com\" id=\"fot.navercorp\" target=\"_blank\">NAVER Corp.</a> <span class=\"all_r\">All Rights Reserved.</span></address>\n",
       "</div>\n",
       "<!-- //footer -->\n",
       "</div>\n",
       "<input id=\"nclicks_nsc\" name=\"nclicks_nsc\" type=\"hidden\" value=\"nid.login_kr\"/>\n",
       "<input id=\"ncaptchaSplit\" name=\"ncaptchaSplit\" type=\"hidden\" value=\"none\"/>\n",
       "<input id=\"id_error_msg\" name=\"id_error_msg\" type=\"hidden\" value=\"아이디를 입력해주세요.\"/>\n",
       "<input id=\"pw_error_msg\" name=\"pw_error_msg\" type=\"hidden\" value=\"비밀번호를 입력해주세요.\"/>\n",
       "<input id=\"locale\" name=\"locale\" type=\"hidden\" value=\"ko_KR\"/>\n",
       "<input id=\"img_captcha_text\" name=\"img_captcha_text\" type=\"hidden\" value=\"아래 이미지를 보이는 대로 입력해주세요.\"/>\n",
       "<input id=\"sound_captcha_text\" name=\"sound_captcha_text\" type=\"hidden\" value=\"스피커로 들리는 내용을 숫자로 입력해 주세요.\"/>\n",
       "<script src=\"/login/js/bvsd.1.3.4.min.js\" type=\"text/javascript\"></script>\n",
       "<script src=\"/login/js/default/common.js\" type=\"text/javascript\"></script>\n",
       "<script src=\"/login/js/default/captcha.js\" type=\"text/javascript\"></script>\n",
       "<div id=\"nv_stat\" style=\"display:none;\">60</div>\n",
       "</body></html>"
      ]
     },
     "execution_count": 15,
     "metadata": {},
     "output_type": "execute_result"
    }
   ],
   "source": [
    "from bs4 import BeautifulSoup\n",
    "\n",
    "html = driver.page_source\n",
    "soup = BeautifulSoup(html, 'html.parser')\n",
    "soup"
   ]
  },
  {
   "cell_type": "code",
   "execution_count": null,
   "metadata": {},
   "outputs": [],
   "source": []
  }
 ],
 "metadata": {
  "kernelspec": {
   "display_name": "Python 3",
   "language": "python",
   "name": "python3"
  },
  "language_info": {
   "codemirror_mode": {
    "name": "ipython",
    "version": 3
   },
   "file_extension": ".py",
   "mimetype": "text/x-python",
   "name": "python",
   "nbconvert_exporter": "python",
   "pygments_lexer": "ipython3",
   "version": "3.7.4"
  }
 },
 "nbformat": 4,
 "nbformat_minor": 2
}
